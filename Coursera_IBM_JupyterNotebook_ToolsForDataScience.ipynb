{
 "cells": [
  {
   "cell_type": "markdown",
   "metadata": {},
   "source": [
    "<H1>My Jupyter Notebook on IBM Watson Studio</H1>"
   ]
  },
  {
   "cell_type": "markdown",
   "metadata": {},
   "source": [
    "<strong>Jon P</strong>, \n",
    "\n",
    "    I want to create and build things. I would like to try my hand as a Full Stack Developer and make tools or use code to \n",
    "    find solutions from data that is already present."
   ]
  },
  {
   "cell_type": "markdown",
   "metadata": {},
   "source": [
    "<i>I am interested in data science because there is soooo much data and it keeps coming at exponential rates. Imagine the solutions to whatever problems or questions we can think of is only as far away as being able to form the data into something that can be understood. Amazing.</i>"
   ]
  },
  {
   "cell_type": "markdown",
   "metadata": {},
   "source": [
    "<h3>Below is a basic for loop using Python. The list will be iterated on until the list is complete and then the script will print out the results.</h3>"
   ]
  },
  {
   "cell_type": "code",
   "execution_count": 1,
   "metadata": {},
   "outputs": [
    {
     "name": "stdout",
     "output_type": "stream",
     "text": [
      "1\n",
      "2\n",
      "4\n",
      "8\n",
      "16\n",
      "32\n",
      "64\n"
     ]
    }
   ],
   "source": [
    "data = [1, 2, 4, 8, 16, 32, 64]\n",
    "for numbers in data:\n",
    "    print(numbers)"
   ]
  },
  {
   "cell_type": "markdown",
   "metadata": {},
   "source": [
    "<p><strike>Understanding the Data</strike></p>\n",
    "<ol>\n",
    "<li><p> data</p>\n",
    "<li><p> use of data</p>\n",
    "<p>data</p>\n",
    "<ul>\n",
    "<li>numbers</li>\n",
    "<li>facts<ol>\n",
    "</ol>\n",
    "</li>\n",
    "</ul>\n",
    "</li> \n",
    "<p>use of data</p>  \n",
    "<ul>\n",
    "<li>numbers can be manipulated to find patterns</li>\n",
    "<li>facts can also be manipulated (these days it seems like this happens all the time)</li>\n",
    "<!-- [Text] (link) -->\n",
    "<p><a href=\"https://tse2.mm.bing.net/th?id=OIP.8kIW1i3aoD9PlI1PQiRMeQHaD2&pid=Api&P=0&w=369&h=193\" title=\"data\">DATA: 1s and 0s</a></p>"
   ]
  },
  {
   "cell_type": "code",
   "execution_count": null,
   "metadata": {},
   "outputs": [],
   "source": []
  }
 ],
 "metadata": {
  "kernelspec": {
   "display_name": "Python 3",
   "language": "python",
   "name": "python3"
  },
  "language_info": {
   "codemirror_mode": {
    "name": "ipython",
    "version": 3
   },
   "file_extension": ".py",
   "mimetype": "text/x-python",
   "name": "python",
   "nbconvert_exporter": "python",
   "pygments_lexer": "ipython3",
   "version": "3.7.6"
  }
 },
 "nbformat": 4,
 "nbformat_minor": 4
}
